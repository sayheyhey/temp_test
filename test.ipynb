{
 "cells": [
  {
   "cell_type": "code",
   "execution_count": 1,
   "outputs": [
    {
     "name": "stdout",
     "output_type": "stream",
     "text": [
      "{'Case_Based': 0, 'Genetic_Algorithms': 2, 'Probabilistic_Methods': 3, 'Neural_Networks': 4, 'Reinforcement_Learning': 5, 'Rule_Learning': 6}\n"
     ]
    }
   ],
   "source": [
    "label_map={'Case_Based': 0, 'Theory': 1, 'Genetic_Algorithms': 2, 'Probabilistic_Methods': 3,\n",
    "\n",
    "'Neural_Networks': 4, 'Reinforcement_Learning': 5, 'Rule_Learning': 6}\n",
    "if 'Theory' in label_map.keys():\n",
    "    label_map.pop('Theory')\n",
    "print(label_map)"
   ],
   "metadata": {
    "collapsed": false
   }
  },
  {
   "cell_type": "code",
   "execution_count": null,
   "outputs": [],
   "source": [],
   "metadata": {
    "collapsed": false
   }
  }
 ],
 "metadata": {
  "kernelspec": {
   "display_name": "Python 3",
   "language": "python",
   "name": "python3"
  },
  "language_info": {
   "codemirror_mode": {
    "name": "ipython",
    "version": 2
   },
   "file_extension": ".py",
   "mimetype": "text/x-python",
   "name": "python",
   "nbconvert_exporter": "python",
   "pygments_lexer": "ipython2",
   "version": "2.7.6"
  }
 },
 "nbformat": 4,
 "nbformat_minor": 0
}
